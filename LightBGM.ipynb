{
  "nbformat": 4,
  "nbformat_minor": 0,
  "metadata": {
    "colab": {
      "provenance": [],
      "authorship_tag": "ABX9TyOWIG+hx+bKlbfahtvBbPMQ",
      "include_colab_link": true
    },
    "kernelspec": {
      "name": "python3",
      "display_name": "Python 3"
    },
    "language_info": {
      "name": "python"
    }
  },
  "cells": [
    {
      "cell_type": "markdown",
      "metadata": {
        "id": "view-in-github",
        "colab_type": "text"
      },
      "source": [
        "<a href=\"https://colab.research.google.com/github/mingd00/ML/blob/main/LightBGM.ipynb\" target=\"_parent\"><img src=\"https://colab.research.google.com/assets/colab-badge.svg\" alt=\"Open In Colab\"/></a>"
      ]
    },
    {
      "cell_type": "code",
      "execution_count": 1,
      "metadata": {
        "colab": {
          "base_uri": "https://localhost:8080/"
        },
        "id": "tVY4DoBCj-xE",
        "outputId": "b44e4e5b-b262-4fd3-f423-70bcc090f9f9"
      },
      "outputs": [
        {
          "output_type": "stream",
          "name": "stdout",
          "text": [
            "Mounted at /content/drive\n"
          ]
        }
      ],
      "source": [
        "from google.colab import drive\n",
        "drive.mount('/content/drive')"
      ]
    },
    {
      "cell_type": "code",
      "source": [
        "import pandas as pd\n",
        "\n",
        "data = pd.read_csv('/content/drive/MyDrive/Colab Notebooks/data/ad_click.csv')\n",
        "data.head()\n"
      ],
      "metadata": {
        "colab": {
          "base_uri": "https://localhost:8080/",
          "height": 310
        },
        "id": "IRxyYD-WkEaJ",
        "outputId": "62841e40-1b97-4ad8-8109-2d015eb3ba4e"
      },
      "execution_count": 23,
      "outputs": [
        {
          "output_type": "execute_result",
          "data": {
            "text/plain": [
              "   Daily Time Spent on Site   Age  Area Income  Daily Internet Usage  \\\n",
              "0                     62.26  32.0     69481.85                172.83   \n",
              "1                     41.73  31.0     61840.26                207.17   \n",
              "2                     44.40  30.0     57877.15                172.83   \n",
              "3                     59.88  28.0     56180.93                207.17   \n",
              "4                     49.21  30.0     54324.73                201.58   \n",
              "\n",
              "                         Ad Topic Line             City  Gender  \\\n",
              "0      Decentralized real-time circuit         Lisafort    Male   \n",
              "1       Optional full-range projection  West Angelabury    Male   \n",
              "2  Total 5thgeneration standardization        Reyesfurt  Female   \n",
              "3          Balanced empowering success      New Michael  Female   \n",
              "4  Total 5thgeneration standardization     West Richard  Female   \n",
              "\n",
              "                        Country            Timestamp  Clicked on Ad  \n",
              "0  Svalbard & Jan Mayen Islands  2016-06-09 21:43:05              0  \n",
              "1                     Singapore  2016-01-16 17:56:05              0  \n",
              "2                    Guadeloupe  2016-06-29 10:50:45              0  \n",
              "3                        Zambia  2016-06-21 14:32:32              0  \n",
              "4                         Qatar  2016-07-21 10:54:35              1  "
            ],
            "text/html": [
              "\n",
              "  <div id=\"df-03d3874d-9ab3-49aa-b04f-c3b7bc51e8e7\" class=\"colab-df-container\">\n",
              "    <div>\n",
              "<style scoped>\n",
              "    .dataframe tbody tr th:only-of-type {\n",
              "        vertical-align: middle;\n",
              "    }\n",
              "\n",
              "    .dataframe tbody tr th {\n",
              "        vertical-align: top;\n",
              "    }\n",
              "\n",
              "    .dataframe thead th {\n",
              "        text-align: right;\n",
              "    }\n",
              "</style>\n",
              "<table border=\"1\" class=\"dataframe\">\n",
              "  <thead>\n",
              "    <tr style=\"text-align: right;\">\n",
              "      <th></th>\n",
              "      <th>Daily Time Spent on Site</th>\n",
              "      <th>Age</th>\n",
              "      <th>Area Income</th>\n",
              "      <th>Daily Internet Usage</th>\n",
              "      <th>Ad Topic Line</th>\n",
              "      <th>City</th>\n",
              "      <th>Gender</th>\n",
              "      <th>Country</th>\n",
              "      <th>Timestamp</th>\n",
              "      <th>Clicked on Ad</th>\n",
              "    </tr>\n",
              "  </thead>\n",
              "  <tbody>\n",
              "    <tr>\n",
              "      <th>0</th>\n",
              "      <td>62.26</td>\n",
              "      <td>32.0</td>\n",
              "      <td>69481.85</td>\n",
              "      <td>172.83</td>\n",
              "      <td>Decentralized real-time circuit</td>\n",
              "      <td>Lisafort</td>\n",
              "      <td>Male</td>\n",
              "      <td>Svalbard &amp; Jan Mayen Islands</td>\n",
              "      <td>2016-06-09 21:43:05</td>\n",
              "      <td>0</td>\n",
              "    </tr>\n",
              "    <tr>\n",
              "      <th>1</th>\n",
              "      <td>41.73</td>\n",
              "      <td>31.0</td>\n",
              "      <td>61840.26</td>\n",
              "      <td>207.17</td>\n",
              "      <td>Optional full-range projection</td>\n",
              "      <td>West Angelabury</td>\n",
              "      <td>Male</td>\n",
              "      <td>Singapore</td>\n",
              "      <td>2016-01-16 17:56:05</td>\n",
              "      <td>0</td>\n",
              "    </tr>\n",
              "    <tr>\n",
              "      <th>2</th>\n",
              "      <td>44.40</td>\n",
              "      <td>30.0</td>\n",
              "      <td>57877.15</td>\n",
              "      <td>172.83</td>\n",
              "      <td>Total 5thgeneration standardization</td>\n",
              "      <td>Reyesfurt</td>\n",
              "      <td>Female</td>\n",
              "      <td>Guadeloupe</td>\n",
              "      <td>2016-06-29 10:50:45</td>\n",
              "      <td>0</td>\n",
              "    </tr>\n",
              "    <tr>\n",
              "      <th>3</th>\n",
              "      <td>59.88</td>\n",
              "      <td>28.0</td>\n",
              "      <td>56180.93</td>\n",
              "      <td>207.17</td>\n",
              "      <td>Balanced empowering success</td>\n",
              "      <td>New Michael</td>\n",
              "      <td>Female</td>\n",
              "      <td>Zambia</td>\n",
              "      <td>2016-06-21 14:32:32</td>\n",
              "      <td>0</td>\n",
              "    </tr>\n",
              "    <tr>\n",
              "      <th>4</th>\n",
              "      <td>49.21</td>\n",
              "      <td>30.0</td>\n",
              "      <td>54324.73</td>\n",
              "      <td>201.58</td>\n",
              "      <td>Total 5thgeneration standardization</td>\n",
              "      <td>West Richard</td>\n",
              "      <td>Female</td>\n",
              "      <td>Qatar</td>\n",
              "      <td>2016-07-21 10:54:35</td>\n",
              "      <td>1</td>\n",
              "    </tr>\n",
              "  </tbody>\n",
              "</table>\n",
              "</div>\n",
              "    <div class=\"colab-df-buttons\">\n",
              "\n",
              "  <div class=\"colab-df-container\">\n",
              "    <button class=\"colab-df-convert\" onclick=\"convertToInteractive('df-03d3874d-9ab3-49aa-b04f-c3b7bc51e8e7')\"\n",
              "            title=\"Convert this dataframe to an interactive table.\"\n",
              "            style=\"display:none;\">\n",
              "\n",
              "  <svg xmlns=\"http://www.w3.org/2000/svg\" height=\"24px\" viewBox=\"0 -960 960 960\">\n",
              "    <path d=\"M120-120v-720h720v720H120Zm60-500h600v-160H180v160Zm220 220h160v-160H400v160Zm0 220h160v-160H400v160ZM180-400h160v-160H180v160Zm440 0h160v-160H620v160ZM180-180h160v-160H180v160Zm440 0h160v-160H620v160Z\"/>\n",
              "  </svg>\n",
              "    </button>\n",
              "\n",
              "  <style>\n",
              "    .colab-df-container {\n",
              "      display:flex;\n",
              "      gap: 12px;\n",
              "    }\n",
              "\n",
              "    .colab-df-convert {\n",
              "      background-color: #E8F0FE;\n",
              "      border: none;\n",
              "      border-radius: 50%;\n",
              "      cursor: pointer;\n",
              "      display: none;\n",
              "      fill: #1967D2;\n",
              "      height: 32px;\n",
              "      padding: 0 0 0 0;\n",
              "      width: 32px;\n",
              "    }\n",
              "\n",
              "    .colab-df-convert:hover {\n",
              "      background-color: #E2EBFA;\n",
              "      box-shadow: 0px 1px 2px rgba(60, 64, 67, 0.3), 0px 1px 3px 1px rgba(60, 64, 67, 0.15);\n",
              "      fill: #174EA6;\n",
              "    }\n",
              "\n",
              "    .colab-df-buttons div {\n",
              "      margin-bottom: 4px;\n",
              "    }\n",
              "\n",
              "    [theme=dark] .colab-df-convert {\n",
              "      background-color: #3B4455;\n",
              "      fill: #D2E3FC;\n",
              "    }\n",
              "\n",
              "    [theme=dark] .colab-df-convert:hover {\n",
              "      background-color: #434B5C;\n",
              "      box-shadow: 0px 1px 3px 1px rgba(0, 0, 0, 0.15);\n",
              "      filter: drop-shadow(0px 1px 2px rgba(0, 0, 0, 0.3));\n",
              "      fill: #FFFFFF;\n",
              "    }\n",
              "  </style>\n",
              "\n",
              "    <script>\n",
              "      const buttonEl =\n",
              "        document.querySelector('#df-03d3874d-9ab3-49aa-b04f-c3b7bc51e8e7 button.colab-df-convert');\n",
              "      buttonEl.style.display =\n",
              "        google.colab.kernel.accessAllowed ? 'block' : 'none';\n",
              "\n",
              "      async function convertToInteractive(key) {\n",
              "        const element = document.querySelector('#df-03d3874d-9ab3-49aa-b04f-c3b7bc51e8e7');\n",
              "        const dataTable =\n",
              "          await google.colab.kernel.invokeFunction('convertToInteractive',\n",
              "                                                    [key], {});\n",
              "        if (!dataTable) return;\n",
              "\n",
              "        const docLinkHtml = 'Like what you see? Visit the ' +\n",
              "          '<a target=\"_blank\" href=https://colab.research.google.com/notebooks/data_table.ipynb>data table notebook</a>'\n",
              "          + ' to learn more about interactive tables.';\n",
              "        element.innerHTML = '';\n",
              "        dataTable['output_type'] = 'display_data';\n",
              "        await google.colab.output.renderOutput(dataTable, element);\n",
              "        const docLink = document.createElement('div');\n",
              "        docLink.innerHTML = docLinkHtml;\n",
              "        element.appendChild(docLink);\n",
              "      }\n",
              "    </script>\n",
              "  </div>\n",
              "\n",
              "\n",
              "<div id=\"df-dc7f98f8-e8c3-4413-b445-d7252f0c7e49\">\n",
              "  <button class=\"colab-df-quickchart\" onclick=\"quickchart('df-dc7f98f8-e8c3-4413-b445-d7252f0c7e49')\"\n",
              "            title=\"Suggest charts\"\n",
              "            style=\"display:none;\">\n",
              "\n",
              "<svg xmlns=\"http://www.w3.org/2000/svg\" height=\"24px\"viewBox=\"0 0 24 24\"\n",
              "     width=\"24px\">\n",
              "    <g>\n",
              "        <path d=\"M19 3H5c-1.1 0-2 .9-2 2v14c0 1.1.9 2 2 2h14c1.1 0 2-.9 2-2V5c0-1.1-.9-2-2-2zM9 17H7v-7h2v7zm4 0h-2V7h2v10zm4 0h-2v-4h2v4z\"/>\n",
              "    </g>\n",
              "</svg>\n",
              "  </button>\n",
              "\n",
              "<style>\n",
              "  .colab-df-quickchart {\n",
              "      --bg-color: #E8F0FE;\n",
              "      --fill-color: #1967D2;\n",
              "      --hover-bg-color: #E2EBFA;\n",
              "      --hover-fill-color: #174EA6;\n",
              "      --disabled-fill-color: #AAA;\n",
              "      --disabled-bg-color: #DDD;\n",
              "  }\n",
              "\n",
              "  [theme=dark] .colab-df-quickchart {\n",
              "      --bg-color: #3B4455;\n",
              "      --fill-color: #D2E3FC;\n",
              "      --hover-bg-color: #434B5C;\n",
              "      --hover-fill-color: #FFFFFF;\n",
              "      --disabled-bg-color: #3B4455;\n",
              "      --disabled-fill-color: #666;\n",
              "  }\n",
              "\n",
              "  .colab-df-quickchart {\n",
              "    background-color: var(--bg-color);\n",
              "    border: none;\n",
              "    border-radius: 50%;\n",
              "    cursor: pointer;\n",
              "    display: none;\n",
              "    fill: var(--fill-color);\n",
              "    height: 32px;\n",
              "    padding: 0;\n",
              "    width: 32px;\n",
              "  }\n",
              "\n",
              "  .colab-df-quickchart:hover {\n",
              "    background-color: var(--hover-bg-color);\n",
              "    box-shadow: 0 1px 2px rgba(60, 64, 67, 0.3), 0 1px 3px 1px rgba(60, 64, 67, 0.15);\n",
              "    fill: var(--button-hover-fill-color);\n",
              "  }\n",
              "\n",
              "  .colab-df-quickchart-complete:disabled,\n",
              "  .colab-df-quickchart-complete:disabled:hover {\n",
              "    background-color: var(--disabled-bg-color);\n",
              "    fill: var(--disabled-fill-color);\n",
              "    box-shadow: none;\n",
              "  }\n",
              "\n",
              "  .colab-df-spinner {\n",
              "    border: 2px solid var(--fill-color);\n",
              "    border-color: transparent;\n",
              "    border-bottom-color: var(--fill-color);\n",
              "    animation:\n",
              "      spin 1s steps(1) infinite;\n",
              "  }\n",
              "\n",
              "  @keyframes spin {\n",
              "    0% {\n",
              "      border-color: transparent;\n",
              "      border-bottom-color: var(--fill-color);\n",
              "      border-left-color: var(--fill-color);\n",
              "    }\n",
              "    20% {\n",
              "      border-color: transparent;\n",
              "      border-left-color: var(--fill-color);\n",
              "      border-top-color: var(--fill-color);\n",
              "    }\n",
              "    30% {\n",
              "      border-color: transparent;\n",
              "      border-left-color: var(--fill-color);\n",
              "      border-top-color: var(--fill-color);\n",
              "      border-right-color: var(--fill-color);\n",
              "    }\n",
              "    40% {\n",
              "      border-color: transparent;\n",
              "      border-right-color: var(--fill-color);\n",
              "      border-top-color: var(--fill-color);\n",
              "    }\n",
              "    60% {\n",
              "      border-color: transparent;\n",
              "      border-right-color: var(--fill-color);\n",
              "    }\n",
              "    80% {\n",
              "      border-color: transparent;\n",
              "      border-right-color: var(--fill-color);\n",
              "      border-bottom-color: var(--fill-color);\n",
              "    }\n",
              "    90% {\n",
              "      border-color: transparent;\n",
              "      border-bottom-color: var(--fill-color);\n",
              "    }\n",
              "  }\n",
              "</style>\n",
              "\n",
              "  <script>\n",
              "    async function quickchart(key) {\n",
              "      const quickchartButtonEl =\n",
              "        document.querySelector('#' + key + ' button');\n",
              "      quickchartButtonEl.disabled = true;  // To prevent multiple clicks.\n",
              "      quickchartButtonEl.classList.add('colab-df-spinner');\n",
              "      try {\n",
              "        const charts = await google.colab.kernel.invokeFunction(\n",
              "            'suggestCharts', [key], {});\n",
              "      } catch (error) {\n",
              "        console.error('Error during call to suggestCharts:', error);\n",
              "      }\n",
              "      quickchartButtonEl.classList.remove('colab-df-spinner');\n",
              "      quickchartButtonEl.classList.add('colab-df-quickchart-complete');\n",
              "    }\n",
              "    (() => {\n",
              "      let quickchartButtonEl =\n",
              "        document.querySelector('#df-dc7f98f8-e8c3-4413-b445-d7252f0c7e49 button');\n",
              "      quickchartButtonEl.style.display =\n",
              "        google.colab.kernel.accessAllowed ? 'block' : 'none';\n",
              "    })();\n",
              "  </script>\n",
              "</div>\n",
              "\n",
              "    </div>\n",
              "  </div>\n"
            ],
            "application/vnd.google.colaboratory.intrinsic+json": {
              "type": "dataframe",
              "variable_name": "data",
              "summary": "{\n  \"name\": \"data\",\n  \"rows\": 10000,\n  \"fields\": [\n    {\n      \"column\": \"Daily Time Spent on Site\",\n      \"properties\": {\n        \"dtype\": \"number\",\n        \"std\": 15.704141935309405,\n        \"min\": 32.6,\n        \"max\": 90.97,\n        \"num_unique_values\": 460,\n        \"samples\": [\n          81.58,\n          57.24,\n          74.07\n        ],\n        \"semantic_type\": \"\",\n        \"description\": \"\"\n      }\n    },\n    {\n      \"column\": \"Age\",\n      \"properties\": {\n        \"dtype\": \"number\",\n        \"std\": 8.572972738563772,\n        \"min\": 19.0,\n        \"max\": 60.0,\n        \"num_unique_values\": 39,\n        \"samples\": [\n          60.0,\n          48.0,\n          26.0\n        ],\n        \"semantic_type\": \"\",\n        \"description\": \"\"\n      }\n    },\n    {\n      \"column\": \"Area Income\",\n      \"properties\": {\n        \"dtype\": \"number\",\n        \"std\": 13343.708717688587,\n        \"min\": 13996.5,\n        \"max\": 79332.33,\n        \"num_unique_values\": 524,\n        \"samples\": [\n          42760.22,\n          56593.8,\n          73538.09\n        ],\n        \"semantic_type\": \"\",\n        \"description\": \"\"\n      }\n    },\n    {\n      \"column\": \"Daily Internet Usage\",\n      \"properties\": {\n        \"dtype\": \"number\",\n        \"std\": 40.820951456932306,\n        \"min\": 105.22,\n        \"max\": 269.96,\n        \"num_unique_values\": 505,\n        \"samples\": [\n          223.03,\n          124.54,\n          171.9\n        ],\n        \"semantic_type\": \"\",\n        \"description\": \"\"\n      }\n    },\n    {\n      \"column\": \"Ad Topic Line\",\n      \"properties\": {\n        \"dtype\": \"category\",\n        \"num_unique_values\": 559,\n        \"samples\": [\n          \"Extended systemic policy\",\n          \"Organic bottom-line service-desk\",\n          \"Enhanced homogeneous moderator\"\n        ],\n        \"semantic_type\": \"\",\n        \"description\": \"\"\n      }\n    },\n    {\n      \"column\": \"City\",\n      \"properties\": {\n        \"dtype\": \"category\",\n        \"num_unique_values\": 521,\n        \"samples\": [\n          \"North Garyhaven\",\n          \"Port Jodi\",\n          \"Port Jeffrey\"\n        ],\n        \"semantic_type\": \"\",\n        \"description\": \"\"\n      }\n    },\n    {\n      \"column\": \"Gender\",\n      \"properties\": {\n        \"dtype\": \"category\",\n        \"num_unique_values\": 2,\n        \"samples\": [\n          \"Female\",\n          \"Male\"\n        ],\n        \"semantic_type\": \"\",\n        \"description\": \"\"\n      }\n    },\n    {\n      \"column\": \"Country\",\n      \"properties\": {\n        \"dtype\": \"category\",\n        \"num_unique_values\": 207,\n        \"samples\": [\n          \"Central African Republic\",\n          \"Saint Pierre and Miquelon\"\n        ],\n        \"semantic_type\": \"\",\n        \"description\": \"\"\n      }\n    },\n    {\n      \"column\": \"Timestamp\",\n      \"properties\": {\n        \"dtype\": \"object\",\n        \"num_unique_values\": 567,\n        \"samples\": [\n          \"2016-02-14 22:23:30\",\n          \"2016-07-07 13:37:34\"\n        ],\n        \"semantic_type\": \"\",\n        \"description\": \"\"\n      }\n    },\n    {\n      \"column\": \"Clicked on Ad\",\n      \"properties\": {\n        \"dtype\": \"number\",\n        \"std\": 0,\n        \"min\": 0,\n        \"max\": 1,\n        \"num_unique_values\": 2,\n        \"samples\": [\n          1,\n          0\n        ],\n        \"semantic_type\": \"\",\n        \"description\": \"\"\n      }\n    }\n  ]\n}"
            }
          },
          "metadata": {},
          "execution_count": 23
        }
      ]
    },
    {
      "cell_type": "code",
      "source": [
        "# 타겟 변수와 특성 분리\n",
        "X = data.drop('Clicked on Ad', axis=1)\n",
        "y = data['Clicked on Ad']\n",
        "\n",
        "# 데이터 타입 확인\n",
        "X.info()"
      ],
      "metadata": {
        "colab": {
          "base_uri": "https://localhost:8080/"
        },
        "id": "8alUvgdPkeLE",
        "outputId": "f13612e0-8538-4538-e899-9e59dd5d15a8"
      },
      "execution_count": 24,
      "outputs": [
        {
          "output_type": "stream",
          "name": "stdout",
          "text": [
            "<class 'pandas.core.frame.DataFrame'>\n",
            "RangeIndex: 10000 entries, 0 to 9999\n",
            "Data columns (total 9 columns):\n",
            " #   Column                    Non-Null Count  Dtype  \n",
            "---  ------                    --------------  -----  \n",
            " 0   Daily Time Spent on Site  10000 non-null  float64\n",
            " 1   Age                       10000 non-null  float64\n",
            " 2   Area Income               10000 non-null  float64\n",
            " 3   Daily Internet Usage      10000 non-null  float64\n",
            " 4   Ad Topic Line             10000 non-null  object \n",
            " 5   City                      10000 non-null  object \n",
            " 6   Gender                    10000 non-null  object \n",
            " 7   Country                   10000 non-null  object \n",
            " 8   Timestamp                 10000 non-null  object \n",
            "dtypes: float64(4), object(5)\n",
            "memory usage: 703.2+ KB\n"
          ]
        }
      ]
    },
    {
      "cell_type": "markdown",
      "source": [
        "데이터 타입이 object인 컬럼 category로 변경하기"
      ],
      "metadata": {
        "id": "0UcU-oJ4yhNN"
      }
    },
    {
      "cell_type": "code",
      "source": [
        "object_cols = [col for col in X.columns if X[col].dtype == 'object']\n",
        "\n",
        "X[object_cols] = X[object_cols].astype('category')\n",
        "X.info()"
      ],
      "metadata": {
        "colab": {
          "base_uri": "https://localhost:8080/"
        },
        "id": "KPBpqzIBxSwW",
        "outputId": "08a79d14-b9d1-4582-d7bc-3ba7d4029af3"
      },
      "execution_count": 25,
      "outputs": [
        {
          "output_type": "stream",
          "name": "stdout",
          "text": [
            "<class 'pandas.core.frame.DataFrame'>\n",
            "RangeIndex: 10000 entries, 0 to 9999\n",
            "Data columns (total 9 columns):\n",
            " #   Column                    Non-Null Count  Dtype   \n",
            "---  ------                    --------------  -----   \n",
            " 0   Daily Time Spent on Site  10000 non-null  float64 \n",
            " 1   Age                       10000 non-null  float64 \n",
            " 2   Area Income               10000 non-null  float64 \n",
            " 3   Daily Internet Usage      10000 non-null  float64 \n",
            " 4   Ad Topic Line             10000 non-null  category\n",
            " 5   City                      10000 non-null  category\n",
            " 6   Gender                    10000 non-null  category\n",
            " 7   Country                   10000 non-null  category\n",
            " 8   Timestamp                 10000 non-null  category\n",
            "dtypes: category(5), float64(4)\n",
            "memory usage: 471.7 KB\n"
          ]
        }
      ]
    },
    {
      "cell_type": "markdown",
      "source": [
        "학습, 검증 데이터 설정"
      ],
      "metadata": {
        "id": "ZcfKddr3zDUB"
      }
    },
    {
      "cell_type": "code",
      "source": [
        "from sklearn.model_selection import train_test_split\n",
        "\n",
        "X_train, X_val, y_train, y_val = train_test_split(X, y, test_size=0.2, random_state=42)"
      ],
      "metadata": {
        "id": "TKsXeUjBzA25"
      },
      "execution_count": 26,
      "outputs": []
    },
    {
      "cell_type": "markdown",
      "source": [
        "LGBM 회귀 모델 학습"
      ],
      "metadata": {
        "id": "_3KxhJcXzOJw"
      }
    },
    {
      "cell_type": "code",
      "source": [
        "from lightgbm import LGBMRegressor\n",
        "from lightgbm.callback import early_stopping, log_evaluation\n",
        "\n",
        "# 모델 초기화\n",
        "lgbm = LGBMRegressor(\n",
        "    n_estimators=1000, # 모델이 훈련할 트리 수\n",
        "    learning_rate=0.01, # 예측을 얼마나 수행할지 결정, 높을수록 적은 수의 트리로 학습이 빠르게 이루어질 수 있지만 과적합이 발생할 수 있다.\n",
        "    max_depth=8, # 결정 트리의 최대 깊이(과적합 방지)\n",
        "    random_state=42\n",
        ")\n",
        "\n",
        "# 조기 종료 및 학습 로그 출력 콜백 정의\n",
        "early_stop = early_stopping(stopping_rounds=10)\n",
        "log_eval = log_evaluation(period=30)\n",
        "\n",
        "# 모델 학습\n",
        "lgbm.fit(\n",
        "    X_train, y_train,\n",
        "    eval_set=[(X_val, y_val)],\n",
        "    eval_metric='rmse',\n",
        "    callbacks=[early_stop, log_eval]\n",
        ")\n",
        "\n",
        "# 정확도 출력\n",
        "print(lgbm.score(X_val, y_val))"
      ],
      "metadata": {
        "colab": {
          "base_uri": "https://localhost:8080/"
        },
        "id": "FerXKH18zLT-",
        "outputId": "2b4877be-59ac-4d1d-ed02-f2bdd64dd360"
      },
      "execution_count": 30,
      "outputs": [
        {
          "output_type": "stream",
          "name": "stdout",
          "text": [
            "[LightGBM] [Warning] Categorical features with more bins than the configured maximum bin number found.\n",
            "[LightGBM] [Warning] For categorical features, max_bin and max_bin_by_feature may be ignored with a large number of categories.\n",
            "[LightGBM] [Warning] Found whitespace in feature_names, replace with underlines\n",
            "[LightGBM] [Info] Auto-choosing col-wise multi-threading, the overhead of testing was 0.001175 seconds.\n",
            "You can set `force_col_wise=true` to remove the overhead.\n",
            "[LightGBM] [Info] Total Bins 1982\n",
            "[LightGBM] [Info] Number of data points in the train set: 8000, number of used features: 9\n",
            "[LightGBM] [Warning] Found whitespace in feature_names, replace with underlines\n",
            "[LightGBM] [Info] Start training from score 0.491375\n",
            "Training until validation scores don't improve for 10 rounds\n",
            "[30]\tvalid_0's rmse: 0.425789\tvalid_0's l2: 0.181296\n",
            "[60]\tvalid_0's rmse: 0.377412\tvalid_0's l2: 0.14244\n",
            "[90]\tvalid_0's rmse: 0.34332\tvalid_0's l2: 0.117869\n",
            "[120]\tvalid_0's rmse: 0.320314\tvalid_0's l2: 0.102601\n",
            "[150]\tvalid_0's rmse: 0.304152\tvalid_0's l2: 0.0925084\n",
            "[180]\tvalid_0's rmse: 0.292013\tvalid_0's l2: 0.0852715\n",
            "[210]\tvalid_0's rmse: 0.284523\tvalid_0's l2: 0.0809531\n",
            "[240]\tvalid_0's rmse: 0.280053\tvalid_0's l2: 0.0784298\n",
            "[270]\tvalid_0's rmse: 0.277209\tvalid_0's l2: 0.0768447\n",
            "[300]\tvalid_0's rmse: 0.274831\tvalid_0's l2: 0.0755322\n",
            "[330]\tvalid_0's rmse: 0.273363\tvalid_0's l2: 0.0747272\n",
            "[360]\tvalid_0's rmse: 0.272604\tvalid_0's l2: 0.0743127\n",
            "[390]\tvalid_0's rmse: 0.272202\tvalid_0's l2: 0.0740941\n",
            "[420]\tvalid_0's rmse: 0.271999\tvalid_0's l2: 0.0739837\n",
            "Early stopping, best iteration is:\n",
            "[417]\tvalid_0's rmse: 0.271969\tvalid_0's l2: 0.0739673\n",
            "0.7040729489695872\n"
          ]
        }
      ]
    },
    {
      "cell_type": "markdown",
      "source": [
        "평가지표 변화 확인"
      ],
      "metadata": {
        "id": "3jvHu0SI-f_S"
      }
    },
    {
      "cell_type": "code",
      "source": [
        "import lightgbm as lgb\n",
        "import matplotlib.pyplot as plt\n",
        "\n",
        "loss_plot = lgb.plot_metric(lgbm.evals_result_, metric='rmse')\n",
        "plt.show()"
      ],
      "metadata": {
        "colab": {
          "base_uri": "https://localhost:8080/",
          "height": 472
        },
        "id": "Wcyd2J1j0Fe4",
        "outputId": "f30b5aad-9f60-488e-a98d-6af78da034c3"
      },
      "execution_count": 28,
      "outputs": [
        {
          "output_type": "display_data",
          "data": {
            "text/plain": [
              "<Figure size 640x480 with 1 Axes>"
            ],
            "image/png": "[encoded data removed]"
          },
          "metadata": {}
        }
      ]
    },
    {
      "cell_type": "markdown",
      "source": [
        "피처 중요도 확인"
      ],
      "metadata": {
        "id": "oVzrEo67-r9M"
      }
    },
    {
      "cell_type": "code",
      "source": [
        "# 최대 피처 수 -> 5개\n",
        "importance_plot = lgb.plot_importance(lgbm.booster_, max_num_features=5)\n",
        "plt.show()"
      ],
      "metadata": {
        "colab": {
          "base_uri": "https://localhost:8080/",
          "height": 472
        },
        "id": "7M6UyYY1-q44",
        "outputId": "bf9bc995-f861-4d77-b2b5-898a8fd7e937"
      },
      "execution_count": 29,
      "outputs": [
        {
          "output_type": "display_data",
          "data": {
            "text/plain": [
              "<Figure size 640x480 with 1 Axes>"
            ],
            "image/png": "[encoded data removed]"
          },
          "metadata": {}
        }
      ]
    },
    {
      "cell_type": "code",
      "source": [],
      "metadata": {
        "id": "owgdGGvx-8tG"
      },
      "execution_count": null,
      "outputs": []
    }
  ]
}